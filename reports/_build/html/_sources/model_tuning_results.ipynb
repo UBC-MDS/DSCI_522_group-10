{
 "cells": [
  {
   "cell_type": "code",
   "execution_count": 2,
   "metadata": {
    "tags": [
     "remove-cell"
    ]
   },
   "outputs": [],
   "source": [
    "import pandas as pd"
   ]
  },
  {
   "cell_type": "markdown",
   "metadata": {},
   "source": [
    "# Model Tuning and Final Results"
   ]
  },
  {
   "cell_type": "markdown",
   "metadata": {},
   "source": [
    "## Hyperparameter tuning"
   ]
  },
  {
   "cell_type": "markdown",
   "metadata": {},
   "source": [
    "As noted in our Model Selection discussion, we have decided to tune the hyperparameters of a Random Forest classifer further.  Specifically, we tuned the following list of hyperparameters:"
   ]
  },
  {
   "cell_type": "markdown",
   "metadata": {},
   "source": [
    "### `n_estimators`"
   ]
  },
  {
   "cell_type": "markdown",
   "metadata": {},
   "source": [
    "This hyperparameter controls the number of trees (models) included in the Random Forest.  We note that a higher number of trees increases model complexity and have a higher risk of overfitting.  We tested a values in the range of 100 to 1000 trees in tuning our model."
   ]
  },
  {
   "cell_type": "markdown",
   "metadata": {},
   "source": [
    "### `criterion`"
   ]
  },
  {
   "cell_type": "markdown",
   "metadata": {},
   "source": [
    "This hyperparameter controls the function that is used to measure the quality of a split at a node in a tree within the Random Forest.  `sklearn` allows for either `gini` or `entropy` functions to be used.  We tested models with both these functions."
   ]
  },
  {
   "cell_type": "markdown",
   "metadata": {},
   "source": [
    "### `max_depth`"
   ]
  },
  {
   "cell_type": "markdown",
   "metadata": {},
   "source": [
    "This hyperparameter controls the maximum depth of each tree in the Random Forest.  We note that higher values increase model complexity and have a higher risk of overfitting.  We tested a range of values from 10 to 100, incremented in steps of 5, in tuning our model."
   ]
  },
  {
   "cell_type": "markdown",
   "metadata": {},
   "source": [
    "### `max_features`"
   ]
  },
  {
   "cell_type": "markdown",
   "metadata": {},
   "source": [
    "This is the number of features that are considered when making a split at a node in a tree in the Random Forest.  We tested the following values in our model tuning:\n",
    "\n",
    "- `auto` which sets `max_features=sqrt(n_features)`, the square root of the number of features.\n",
    "- `log2` which sets `max_features=log2(n_features)`, log base 2 of the number of features."
   ]
  },
  {
   "cell_type": "markdown",
   "metadata": {},
   "source": [
    "### `min_samples_split`"
   ]
  },
  {
   "cell_type": "markdown",
   "metadata": {},
   "source": [
    "This is the minimum number of samples required to split an internal node of the tree.  We tested the values 2, 4, and 8 in our hyperparameter tuning."
   ]
  },
  {
   "cell_type": "markdown",
   "metadata": {},
   "source": [
    "### `min_samples_leaf`"
   ]
  },
  {
   "cell_type": "markdown",
   "metadata": {},
   "source": [
    "This is the minimum number of samples required to be at a leaf node.  We tested the values 1, 2, and 4 in our hyperparameter tuning."
   ]
  },
  {
   "cell_type": "markdown",
   "metadata": {},
   "source": [
    "### `class_weight`"
   ]
  },
  {
   "cell_type": "markdown",
   "metadata": {},
   "source": [
    "This hyperparameter can be used to deal with the imbalance in our training data.  Specifically, this hyper parameter controls the weights associated with each class.  We tested `balanced` which uses the values of our target label to automatically adjust weights inversely proportional to class frequencies as `n_samples / (n_classes * np.bincount(y))`.  We also considered a value of `None`, which does not adjust class weights."
   ]
  },
  {
   "cell_type": "markdown",
   "metadata": {},
   "source": [
    "Please note that this is not a full list of the hyperparameters available for tuning in `sklearn`.  For the full list, please see the [documentation](https://scikit-learn.org/stable/modules/generated/sklearn.ensemble.RandomForestClassifier.html)."
   ]
  },
  {
   "cell_type": "markdown",
   "metadata": {},
   "source": [
    "## Randomized search"
   ]
  },
  {
   "cell_type": "markdown",
   "metadata": {},
   "source": [
    "In order to tune the hyperparameters of our model we used randomized search cross validation, which is implemented in `sklearn` with `RandomizedSearchCV`.  We set a budget of 100 models to train.  Based on this random search, we found that the following hyperparameters worked the best for our model, in the sense that they obtained the highest recall score of 0.81."
   ]
  },
  {
   "cell_type": "code",
   "execution_count": 5,
   "metadata": {
    "tags": [
     "remove-input"
    ]
   },
   "outputs": [
    {
     "data": {
      "text/html": [
       "<style type=\"text/css\">\n",
       "#T_ed4c7_ td:hover {\n",
       "  background-color: #ffffb3;\n",
       "}\n",
       "#T_ed4c7_ .index_name {\n",
       "  font-style: italic;\n",
       "  color: darkgrey;\n",
       "  font-weight: normal;\n",
       "}\n",
       "#T_ed4c7_ th:not(.index_name) {\n",
       "  background-color: #000066;\n",
       "  color: white;\n",
       "}\n",
       "</style>\n",
       "<table id=\"T_ed4c7_\">\n",
       "  <thead>\n",
       "    <tr>\n",
       "      <th class=\"blank level0\" >&nbsp;</th>\n",
       "      <th class=\"col_heading level0 col0\" >0</th>\n",
       "    </tr>\n",
       "  </thead>\n",
       "  <tbody>\n",
       "    <tr>\n",
       "      <th id=\"T_ed4c7_level0_row0\" class=\"row_heading level0 row0\" >randomforestclassifier__class_weight</th>\n",
       "      <td id=\"T_ed4c7_row0_col0\" class=\"data row0 col0\" >balanced</td>\n",
       "    </tr>\n",
       "    <tr>\n",
       "      <th id=\"T_ed4c7_level0_row1\" class=\"row_heading level0 row1\" >randomforestclassifier__criterion</th>\n",
       "      <td id=\"T_ed4c7_row1_col0\" class=\"data row1 col0\" >entropy</td>\n",
       "    </tr>\n",
       "    <tr>\n",
       "      <th id=\"T_ed4c7_level0_row2\" class=\"row_heading level0 row2\" >randomforestclassifier__max_depth</th>\n",
       "      <td id=\"T_ed4c7_row2_col0\" class=\"data row2 col0\" >10</td>\n",
       "    </tr>\n",
       "    <tr>\n",
       "      <th id=\"T_ed4c7_level0_row3\" class=\"row_heading level0 row3\" >randomforestclassifier__max_features</th>\n",
       "      <td id=\"T_ed4c7_row3_col0\" class=\"data row3 col0\" >log2</td>\n",
       "    </tr>\n",
       "    <tr>\n",
       "      <th id=\"T_ed4c7_level0_row4\" class=\"row_heading level0 row4\" >randomforestclassifier__min_samples_leaf</th>\n",
       "      <td id=\"T_ed4c7_row4_col0\" class=\"data row4 col0\" >4</td>\n",
       "    </tr>\n",
       "    <tr>\n",
       "      <th id=\"T_ed4c7_level0_row5\" class=\"row_heading level0 row5\" >randomforestclassifier__min_samples_split</th>\n",
       "      <td id=\"T_ed4c7_row5_col0\" class=\"data row5 col0\" >4</td>\n",
       "    </tr>\n",
       "    <tr>\n",
       "      <th id=\"T_ed4c7_level0_row6\" class=\"row_heading level0 row6\" >randomforestclassifier__n_estimators</th>\n",
       "      <td id=\"T_ed4c7_row6_col0\" class=\"data row6 col0\" >892</td>\n",
       "    </tr>\n",
       "  </tbody>\n",
       "</table>\n"
      ],
      "text/plain": [
       "<pandas.io.formats.style.Styler at 0x10c31cc70>"
      ]
     },
     "execution_count": 5,
     "metadata": {},
     "output_type": "execute_result"
    }
   ],
   "source": [
    "cr = pd.read_csv(\"../results/model_tuning/best_hyperparameters.csv\", index_col=0)\n",
    "\n",
    "# set pandas table styles\n",
    "s = cr.style.format()\n",
    "\n",
    "cell_hover = { \n",
    "    'selector': 'td:hover',\n",
    "    'props': [('background-color', '#ffffb3')]\n",
    "}\n",
    "\n",
    "index_names = {\n",
    "    'selector': '.index_name',\n",
    "    'props': 'font-style: italic; color: darkgrey; font-weight:normal;'\n",
    "}\n",
    "headers = {\n",
    "    'selector': 'th:not(.index_name)',\n",
    "    'props': 'background-color: #000066; color: white;'\n",
    "}\n",
    "\n",
    "s.set_table_styles([cell_hover, index_names, headers])"
   ]
  },
  {
   "cell_type": "markdown",
   "metadata": {},
   "source": [
    "## Final test set results"
   ]
  },
  {
   "cell_type": "markdown",
   "metadata": {},
   "source": [
    "Finally, we used our tuned Random Forest model to make predictions on the test set.  In order to analyze how well our model did, we have included a confusion matrix and classification report below."
   ]
  },
  {
   "cell_type": "markdown",
   "metadata": {},
   "source": [
    "### Confusion matrix"
   ]
  },
  {
   "cell_type": "markdown",
   "metadata": {},
   "source": [
    "![RandomForestFinal](images/final_cm.png)"
   ]
  },
  {
   "cell_type": "markdown",
   "metadata": {},
   "source": [
    "Fig.7 - Final confusion matrix with tuned random forest model"
   ]
  },
  {
   "cell_type": "markdown",
   "metadata": {},
   "source": [
    "### Classification report"
   ]
  },
  {
   "cell_type": "code",
   "execution_count": 4,
   "metadata": {
    "tags": [
     "remove-input"
    ]
   },
   "outputs": [
    {
     "data": {
      "text/html": [
       "<style type=\"text/css\">\n",
       "#T_873c3_ td:hover {\n",
       "  background-color: #ffffb3;\n",
       "}\n",
       "#T_873c3_ .index_name {\n",
       "  font-style: italic;\n",
       "  color: darkgrey;\n",
       "  font-weight: normal;\n",
       "}\n",
       "#T_873c3_ th:not(.index_name) {\n",
       "  background-color: #000066;\n",
       "  color: white;\n",
       "}\n",
       "</style>\n",
       "<table id=\"T_873c3_\">\n",
       "  <thead>\n",
       "    <tr>\n",
       "      <th class=\"blank level0\" >&nbsp;</th>\n",
       "      <th class=\"col_heading level0 col0\" >precision</th>\n",
       "      <th class=\"col_heading level0 col1\" >recall</th>\n",
       "      <th class=\"col_heading level0 col2\" >f1-score</th>\n",
       "      <th class=\"col_heading level0 col3\" >support</th>\n",
       "    </tr>\n",
       "  </thead>\n",
       "  <tbody>\n",
       "    <tr>\n",
       "      <th id=\"T_873c3_level0_row0\" class=\"row_heading level0 row0\" >No Purchase</th>\n",
       "      <td id=\"T_873c3_row0_col0\" class=\"data row0 col0\" >0.954</td>\n",
       "      <td id=\"T_873c3_row0_col1\" class=\"data row0 col1\" >0.870</td>\n",
       "      <td id=\"T_873c3_row0_col2\" class=\"data row0 col2\" >0.910</td>\n",
       "      <td id=\"T_873c3_row0_col3\" class=\"data row0 col3\" >2058.000</td>\n",
       "    </tr>\n",
       "    <tr>\n",
       "      <th id=\"T_873c3_level0_row1\" class=\"row_heading level0 row1\" >Purchase</th>\n",
       "      <td id=\"T_873c3_row1_col0\" class=\"data row1 col0\" >0.546</td>\n",
       "      <td id=\"T_873c3_row1_col1\" class=\"data row1 col1\" >0.789</td>\n",
       "      <td id=\"T_873c3_row1_col2\" class=\"data row1 col2\" >0.645</td>\n",
       "      <td id=\"T_873c3_row1_col3\" class=\"data row1 col3\" >408.000</td>\n",
       "    </tr>\n",
       "    <tr>\n",
       "      <th id=\"T_873c3_level0_row2\" class=\"row_heading level0 row2\" >accuracy</th>\n",
       "      <td id=\"T_873c3_row2_col0\" class=\"data row2 col0\" >0.856</td>\n",
       "      <td id=\"T_873c3_row2_col1\" class=\"data row2 col1\" >0.856</td>\n",
       "      <td id=\"T_873c3_row2_col2\" class=\"data row2 col2\" >0.856</td>\n",
       "      <td id=\"T_873c3_row2_col3\" class=\"data row2 col3\" >0.856</td>\n",
       "    </tr>\n",
       "    <tr>\n",
       "      <th id=\"T_873c3_level0_row3\" class=\"row_heading level0 row3\" >macro avg</th>\n",
       "      <td id=\"T_873c3_row3_col0\" class=\"data row3 col0\" >0.750</td>\n",
       "      <td id=\"T_873c3_row3_col1\" class=\"data row3 col1\" >0.829</td>\n",
       "      <td id=\"T_873c3_row3_col2\" class=\"data row3 col2\" >0.778</td>\n",
       "      <td id=\"T_873c3_row3_col3\" class=\"data row3 col3\" >2466.000</td>\n",
       "    </tr>\n",
       "    <tr>\n",
       "      <th id=\"T_873c3_level0_row4\" class=\"row_heading level0 row4\" >weighted avg</th>\n",
       "      <td id=\"T_873c3_row4_col0\" class=\"data row4 col0\" >0.887</td>\n",
       "      <td id=\"T_873c3_row4_col1\" class=\"data row4 col1\" >0.856</td>\n",
       "      <td id=\"T_873c3_row4_col2\" class=\"data row4 col2\" >0.866</td>\n",
       "      <td id=\"T_873c3_row4_col3\" class=\"data row4 col3\" >2466.000</td>\n",
       "    </tr>\n",
       "  </tbody>\n",
       "</table>\n"
      ],
      "text/plain": [
       "<pandas.io.formats.style.Styler at 0x110941c70>"
      ]
     },
     "execution_count": 4,
     "metadata": {},
     "output_type": "execute_result"
    }
   ],
   "source": [
    "cr = pd.read_csv(\"../results/model_tuning/classification_report.csv\", index_col=0)\n",
    "\n",
    "# set pandas table styles\n",
    "s = cr.style.format(\n",
    "    '{:.3f}'\n",
    ")\n",
    "\n",
    "cell_hover = { \n",
    "    'selector': 'td:hover',\n",
    "    'props': [('background-color', '#ffffb3')]\n",
    "}\n",
    "\n",
    "index_names = {\n",
    "    'selector': '.index_name',\n",
    "    'props': 'font-style: italic; color: darkgrey; font-weight:normal;'\n",
    "}\n",
    "headers = {\n",
    "    'selector': 'th:not(.index_name)',\n",
    "    'props': 'background-color: #000066; color: white;'\n",
    "}\n",
    "\n",
    "s.set_table_styles([cell_hover, index_names, headers])"
   ]
  },
  {
   "cell_type": "markdown",
   "metadata": {},
   "source": [
    "Table.3 - Evaluation metrics for tuned random forest model"
   ]
  },
  {
   "cell_type": "markdown",
   "metadata": {},
   "source": [
    "## Discussion of results"
   ]
  },
  {
   "cell_type": "markdown",
   "metadata": {},
   "source": [
    "Based of Figure 7 and Table 3 we note that our tuned Random Forest obtained the following results on the test set:\n",
    "\n",
    "- 1790 true positives, and 321 true negatives\n",
    "- 268 false positives, and 87 false negatives\n",
    "- A macro average recall score is 0.830 and the macro average precision score is 0.751\n",
    "- The macro average precision score is above our budget of 0.60 that we set at the beginning of our project"
   ]
  },
  {
   "cell_type": "markdown",
   "metadata": {},
   "source": [
    "## Conclusion\n",
    "\n",
    "We have demonstrated that it is feasible to create a machine learning model to predict purchase conversion using session data in an e-commerce setting. Even though the features in the dataset are high level and aggregated, we are still able to find signals that can help with our prediction problem. Performance may be improved with more granular dataset, such as individual page history data of a user in a session. Deploying a real-time machine learning model for this use case may be challenging. Hence, we recommend to start with simple rule-based triggers on important features like `PageValues` and `BounceRates` as an 'early win', before transitioning to a machine learning model to futher boost conversion rate."
   ]
  },
  {
   "cell_type": "markdown",
   "metadata": {},
   "source": []
  }
 ],
 "metadata": {
  "celltoolbar": "Tags",
  "kernelspec": {
   "display_name": "Python 3",
   "language": "python",
   "name": "python3"
  },
  "language_info": {
   "codemirror_mode": {
    "name": "ipython",
    "version": 3
   },
   "file_extension": ".py",
   "mimetype": "text/x-python",
   "name": "python",
   "nbconvert_exporter": "python",
   "pygments_lexer": "ipython3",
   "version": "3.9.7"
  }
 },
 "nbformat": 4,
 "nbformat_minor": 2
}
