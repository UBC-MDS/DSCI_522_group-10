{
 "cells": [
  {
   "cell_type": "code",
   "execution_count": 1,
   "metadata": {
    "tags": [
     "remove-cell"
    ]
   },
   "outputs": [],
   "source": [
    "import pandas as pd"
   ]
  },
  {
   "cell_type": "markdown",
   "metadata": {},
   "source": [
    "# Model selection"
   ]
  },
  {
   "cell_type": "markdown",
   "metadata": {},
   "source": [
    "## Metrics"
   ]
  },
  {
   "cell_type": "markdown",
   "metadata": {},
   "source": [
    "In determining the metric we use for our model, we need to first consider the context of Type I and Type II errors for our problem:\n",
    "\n",
    "- A type I (false positive) error would be predicting that a customer will make a purchase, when they in fact do not.\n",
    "- A type II (false negative) error would be predicting that a customer will not make a purchase, when in fact they do.\n",
    "\n",
    "In determining the metric we use for our model, we need to consider the business objective of the e-commerce company. We assume that the company will have the following objectives: 1) maximize revenue by increasing purchase conversion rate, and 2) minimize disruption to customer experience from targeted nudges.\n",
    "\n",
    "Based on this, we can use precision, recall, and average precision. To be more specific, we want to maximize recall, while keeping a minimum threshold of 60% precision (threshold based on business requirement and tolerance). Average precision will be a secondary metric to monitor, since we are interested in both precision and recall."
   ]
  },
  {
   "cell_type": "markdown",
   "metadata": {},
   "source": [
    "## Base model"
   ]
  },
  {
   "cell_type": "markdown",
   "metadata": {},
   "source": [
    "Our based model will be the `DummyClassifier` model from `sklearn` with the default parameters.  From the `sklearn` [documentation](https://scikit-learn.org/stable/modules/generated/sklearn.dummy.DummyClassifier.html), the default `strategy` parameter is `prior` which always predicts the class that maximizes the class prior (like “most_frequent”) and predict_proba returns the class prior."
   ]
  },
  {
   "cell_type": "markdown",
   "metadata": {},
   "source": [
    "## Additional models tested"
   ]
  },
  {
   "cell_type": "markdown",
   "metadata": {},
   "source": [
    "In performing model selection, we will fit the following models to our training data, and use cross validation to assess which model to select for further hyperparameter tuning:\n",
    "\n",
    "- Logistic Regression\n",
    "- Support Vector Machine w/ RBF kernl\n",
    "- Random Forest Classifier\n",
    "- XGBoost Classifier"
   ]
  },
  {
   "cell_type": "markdown",
   "metadata": {},
   "source": [
    "## Cross validation results"
   ]
  },
  {
   "cell_type": "markdown",
   "metadata": {},
   "source": [
    "We performed 5 fold cross validation for the above models on our training data and observed the following metrics.  Please note that the following scores are the mean values over the 5 folds of cross validation:"
   ]
  },
  {
   "cell_type": "code",
   "execution_count": 2,
   "metadata": {
    "tags": [
     "remove_input"
    ]
   },
   "outputs": [
    {
     "data": {
      "text/html": [
       "<div>\n",
       "<style scoped>\n",
       "    .dataframe tbody tr th:only-of-type {\n",
       "        vertical-align: middle;\n",
       "    }\n",
       "\n",
       "    .dataframe tbody tr th {\n",
       "        vertical-align: top;\n",
       "    }\n",
       "\n",
       "    .dataframe thead th {\n",
       "        text-align: right;\n",
       "    }\n",
       "</style>\n",
       "<table border=\"1\" class=\"dataframe\">\n",
       "  <thead>\n",
       "    <tr style=\"text-align: right;\">\n",
       "      <th></th>\n",
       "      <th>DummyClassifier</th>\n",
       "      <th>LogisticRegression</th>\n",
       "      <th>SVC</th>\n",
       "      <th>RandomForest</th>\n",
       "      <th>XGBoost</th>\n",
       "    </tr>\n",
       "  </thead>\n",
       "  <tbody>\n",
       "    <tr>\n",
       "      <th>fit_time</th>\n",
       "      <td>0.00 (+/- 0.00)</td>\n",
       "      <td>0.20 (+/- 0.01)</td>\n",
       "      <td>1.19 (+/- 0.15)</td>\n",
       "      <td>0.71 (+/- 0.03)</td>\n",
       "      <td>0.60 (+/- 0.01)</td>\n",
       "    </tr>\n",
       "    <tr>\n",
       "      <th>score_time</th>\n",
       "      <td>0.00 (+/- 0.00)</td>\n",
       "      <td>0.01 (+/- 0.00)</td>\n",
       "      <td>0.73 (+/- 0.09)</td>\n",
       "      <td>0.03 (+/- 0.00)</td>\n",
       "      <td>0.01 (+/- 0.00)</td>\n",
       "    </tr>\n",
       "    <tr>\n",
       "      <th>test_accuracy</th>\n",
       "      <td>0.85 (+/- 0.00)</td>\n",
       "      <td>0.88 (+/- 0.02)</td>\n",
       "      <td>0.89 (+/- 0.03)</td>\n",
       "      <td>0.89 (+/- 0.03)</td>\n",
       "      <td>0.88 (+/- 0.04)</td>\n",
       "    </tr>\n",
       "    <tr>\n",
       "      <th>train_accuracy</th>\n",
       "      <td>0.85 (+/- 0.00)</td>\n",
       "      <td>0.89 (+/- 0.01)</td>\n",
       "      <td>0.91 (+/- 0.01)</td>\n",
       "      <td>1.00 (+/- 0.00)</td>\n",
       "      <td>0.99 (+/- 0.00)</td>\n",
       "    </tr>\n",
       "    <tr>\n",
       "      <th>test_precision</th>\n",
       "      <td>0.00 (+/- 0.00)</td>\n",
       "      <td>0.73 (+/- 0.15)</td>\n",
       "      <td>0.71 (+/- 0.13)</td>\n",
       "      <td>0.69 (+/- 0.13)</td>\n",
       "      <td>0.65 (+/- 0.16)</td>\n",
       "    </tr>\n",
       "    <tr>\n",
       "      <th>train_precision</th>\n",
       "      <td>0.00 (+/- 0.00)</td>\n",
       "      <td>0.77 (+/- 0.02)</td>\n",
       "      <td>0.78 (+/- 0.01)</td>\n",
       "      <td>1.00 (+/- 0.00)</td>\n",
       "      <td>1.00 (+/- 0.00)</td>\n",
       "    </tr>\n",
       "    <tr>\n",
       "      <th>test_recall</th>\n",
       "      <td>0.00 (+/- 0.00)</td>\n",
       "      <td>0.38 (+/- 0.08)</td>\n",
       "      <td>0.48 (+/- 0.11)</td>\n",
       "      <td>0.55 (+/- 0.12)</td>\n",
       "      <td>0.56 (+/- 0.12)</td>\n",
       "    </tr>\n",
       "    <tr>\n",
       "      <th>train_recall</th>\n",
       "      <td>0.00 (+/- 0.00)</td>\n",
       "      <td>0.41 (+/- 0.04)</td>\n",
       "      <td>0.55 (+/- 0.07)</td>\n",
       "      <td>1.00 (+/- 0.00)</td>\n",
       "      <td>0.94 (+/- 0.02)</td>\n",
       "    </tr>\n",
       "    <tr>\n",
       "      <th>test_f1</th>\n",
       "      <td>0.00 (+/- 0.00)</td>\n",
       "      <td>0.50 (+/- 0.10)</td>\n",
       "      <td>0.57 (+/- 0.12)</td>\n",
       "      <td>0.61 (+/- 0.12)</td>\n",
       "      <td>0.60 (+/- 0.13)</td>\n",
       "    </tr>\n",
       "    <tr>\n",
       "      <th>train_f1</th>\n",
       "      <td>0.00 (+/- 0.00)</td>\n",
       "      <td>0.53 (+/- 0.04)</td>\n",
       "      <td>0.64 (+/- 0.05)</td>\n",
       "      <td>1.00 (+/- 0.00)</td>\n",
       "      <td>0.97 (+/- 0.01)</td>\n",
       "    </tr>\n",
       "  </tbody>\n",
       "</table>\n",
       "</div>"
      ],
      "text/plain": [
       "                 DummyClassifier LogisticRegression              SVC  \\\n",
       "fit_time         0.00 (+/- 0.00)    0.20 (+/- 0.01)  1.19 (+/- 0.15)   \n",
       "score_time       0.00 (+/- 0.00)    0.01 (+/- 0.00)  0.73 (+/- 0.09)   \n",
       "test_accuracy    0.85 (+/- 0.00)    0.88 (+/- 0.02)  0.89 (+/- 0.03)   \n",
       "train_accuracy   0.85 (+/- 0.00)    0.89 (+/- 0.01)  0.91 (+/- 0.01)   \n",
       "test_precision   0.00 (+/- 0.00)    0.73 (+/- 0.15)  0.71 (+/- 0.13)   \n",
       "train_precision  0.00 (+/- 0.00)    0.77 (+/- 0.02)  0.78 (+/- 0.01)   \n",
       "test_recall      0.00 (+/- 0.00)    0.38 (+/- 0.08)  0.48 (+/- 0.11)   \n",
       "train_recall     0.00 (+/- 0.00)    0.41 (+/- 0.04)  0.55 (+/- 0.07)   \n",
       "test_f1          0.00 (+/- 0.00)    0.50 (+/- 0.10)  0.57 (+/- 0.12)   \n",
       "train_f1         0.00 (+/- 0.00)    0.53 (+/- 0.04)  0.64 (+/- 0.05)   \n",
       "\n",
       "                    RandomForest          XGBoost  \n",
       "fit_time         0.71 (+/- 0.03)  0.60 (+/- 0.01)  \n",
       "score_time       0.03 (+/- 0.00)  0.01 (+/- 0.00)  \n",
       "test_accuracy    0.89 (+/- 0.03)  0.88 (+/- 0.04)  \n",
       "train_accuracy   1.00 (+/- 0.00)  0.99 (+/- 0.00)  \n",
       "test_precision   0.69 (+/- 0.13)  0.65 (+/- 0.16)  \n",
       "train_precision  1.00 (+/- 0.00)  1.00 (+/- 0.00)  \n",
       "test_recall      0.55 (+/- 0.12)  0.56 (+/- 0.12)  \n",
       "train_recall     1.00 (+/- 0.00)  0.94 (+/- 0.02)  \n",
       "test_f1          0.61 (+/- 0.12)  0.60 (+/- 0.13)  \n",
       "train_f1         1.00 (+/- 0.00)  0.97 (+/- 0.01)  "
      ]
     },
     "execution_count": 2,
     "metadata": {},
     "output_type": "execute_result"
    }
   ],
   "source": [
    "model_selection_results_df = pd.read_csv(\"../results/model_selection_results.csv\", index_col=0)\n",
    "model_selection_results_df"
   ]
  },
  {
   "cell_type": "markdown",
   "metadata": {},
   "source": [
    "From the above we can see that:\n",
    "\n",
    "- The logistic regression model had the best precision scores on the validation tests during cross validation.  However, the recall scores of this model were quite poor.\n",
    "- The support vector machine had similar precision scores to the logistic regression model, and slightly better recall scores.\n",
    "- The random forest model and XGBoost models both severely overfit the training set, which can be seen by perfrect accuracy and precision scores.  However, the recall scores on the test set of these models are still higher than the logistic regression and support vector machine models.\n",
    "- The F1 scores of the models are consistent with the analysis above."
   ]
  },
  {
   "cell_type": "markdown",
   "metadata": {},
   "source": [
    "## Preliminary confusion matrices"
   ]
  },
  {
   "cell_type": "markdown",
   "metadata": {},
   "source": [
    "In addition we used sklearns `cross_val_predict` to generate the following preliminary confusion matrices:\n",
    "\n",
    "![DummyClassifier](images/DummyClassifier_cm.png)\n",
    "\n",
    "The dummy classifier confusion matrix simply serves as a baseline.\n",
    "\n",
    "![LogisticRegression](images/LogisticRegression_cm.png)\n",
    "\n",
    "The logistic regression model is outputing 220 false positives, and 927 false negatives.\n",
    "\n",
    "![SVC](images/SVC_cm.png)\n",
    "\n",
    "The support vector machine is outputing 286 false positives, and 777 false negatives.\n",
    "\n",
    "![RandomForest](images/RandomForest_cm.png)\n",
    "\n",
    "The random forest is outputing 388 false positives, and 666 false negatives.\n",
    "\n",
    "![XGBoost](images/XGBoost_cm.png)\n",
    "\n",
    "The XGBoost model is outputing 478 false positives, and 657 false negatives."
   ]
  },
  {
   "cell_type": "markdown",
   "metadata": {},
   "source": [
    "## Model selection"
   ]
  },
  {
   "cell_type": "markdown",
   "metadata": {},
   "source": [
    "We note that the above results were obtained with no hyperparameter tuning.  Based on these results alone, we can see that the random forest appears to be a promising model for our problem.  We will therefore select this model to tune further.  Random forests tend to be a great model for classification problems as they inject randomness into a probelm in the form of bagging and random features {cite}`breiman2001random`."
   ]
  }
 ],
 "metadata": {
  "celltoolbar": "Tags",
  "interpreter": {
   "hash": "224f349dae0cd7f483ba6ec89ede81d9b2e295608a2b61b0158a425d5ea0bda6"
  },
  "kernelspec": {
   "display_name": "Python 3",
   "language": "python",
   "name": "python3"
  },
  "language_info": {
   "codemirror_mode": {
    "name": "ipython",
    "version": 3
   },
   "file_extension": ".py",
   "mimetype": "text/x-python",
   "name": "python",
   "nbconvert_exporter": "python",
   "pygments_lexer": "ipython3",
   "version": "3.9.7"
  }
 },
 "nbformat": 4,
 "nbformat_minor": 2
}