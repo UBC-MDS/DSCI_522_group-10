{
 "cells": [
  {
   "cell_type": "code",
   "execution_count": 2,
   "metadata": {
    "tags": [
     "remove-cell"
    ]
   },
   "outputs": [],
   "source": [
    "import pandas as pd"
   ]
  },
  {
   "cell_type": "markdown",
   "metadata": {},
   "source": [
    "# Model Tuning and Results"
   ]
  },
  {
   "cell_type": "markdown",
   "metadata": {},
   "source": [
    "## Hyperparameter tuning"
   ]
  },
  {
   "cell_type": "markdown",
   "metadata": {},
   "source": [
    "We tuned the following hyperparameters of the Random Forest classifier:"
   ]
  },
  {
   "cell_type": "markdown",
   "metadata": {},
   "source": [
    "### `n_estimators`"
   ]
  },
  {
   "cell_type": "markdown",
   "metadata": {},
   "source": [
    "This is the number of trees (models) to include in our forest (ensemble of models).  We note that a higher number of trees increases model complexity and can introduce overfitting."
   ]
  },
  {
   "cell_type": "markdown",
   "metadata": {},
   "source": [
    "### `criterion`"
   ]
  },
  {
   "cell_type": "markdown",
   "metadata": {},
   "source": [
    "This is the function that is used to measure the quality of a split at a node in the tree.  `sklearn` allows for either `gini` or `entropy` functions to be used."
   ]
  },
  {
   "cell_type": "markdown",
   "metadata": {},
   "source": [
    "### `max_depth`"
   ]
  },
  {
   "cell_type": "markdown",
   "metadata": {},
   "source": [
    "This is the maximum depth of each tree in the forest.  Higher values increase model complexity and can introduce overfitting."
   ]
  },
  {
   "cell_type": "markdown",
   "metadata": {},
   "source": [
    "### `max_features`"
   ]
  },
  {
   "cell_type": "markdown",
   "metadata": {},
   "source": [
    "This is the number of features that are considered when making the best split at a node in the tree.  We used the following values:\n",
    "\n",
    "- `auto` which sets `max_features=sqrt(n_features)`\n",
    "- `log2` which sets `max_features=log2(n_features)`"
   ]
  },
  {
   "cell_type": "markdown",
   "metadata": {},
   "source": [
    "### `min_samples_split`"
   ]
  },
  {
   "cell_type": "markdown",
   "metadata": {},
   "source": [
    "This is the minimum number of samples required to split an internal node of the tree."
   ]
  },
  {
   "cell_type": "markdown",
   "metadata": {},
   "source": [
    "### `min_samples_leaf`"
   ]
  },
  {
   "cell_type": "markdown",
   "metadata": {},
   "source": [
    "This is the minimum number of samples required to be at a leaf node."
   ]
  },
  {
   "cell_type": "markdown",
   "metadata": {},
   "source": [
    "### `class_weight`"
   ]
  },
  {
   "cell_type": "markdown",
   "metadata": {},
   "source": [
    "This hyperparameter can be used to deal with the imbalance in our training data.  Specifically, this hyper parameter controls the weights associated with each class.  We tested `balanced` which uses the values of our target label to automatically adjust weights inversely proportional to class frequencies as `n_samples / (n_classes * np.bincount(y))`"
   ]
  },
  {
   "cell_type": "markdown",
   "metadata": {},
   "source": [
    "For a full list of hyperparameters please see sk-learn's [documentation](https://scikit-learn.org/stable/modules/generated/sklearn.ensemble.RandomForestClassifier.html)."
   ]
  },
  {
   "cell_type": "markdown",
   "metadata": {},
   "source": [
    "### Randomized search cross validation"
   ]
  },
  {
   "cell_type": "markdown",
   "metadata": {},
   "source": [
    "In order to tune the hyperparameters of our model we used randomized search cross validation.  We set a budget of 100 models to train."
   ]
  },
  {
   "cell_type": "markdown",
   "metadata": {},
   "source": [
    "## Final results (test set)"
   ]
  },
  {
   "cell_type": "markdown",
   "metadata": {},
   "source": [
    "### Confusion matrix"
   ]
  },
  {
   "cell_type": "markdown",
   "metadata": {},
   "source": [
    "![RandomForestFinal](images/final_cm.png)"
   ]
  },
  {
   "cell_type": "markdown",
   "metadata": {},
   "source": [
    "Fig.7 - Final confusion matrix with tuned random forest model"
   ]
  },
  {
   "cell_type": "markdown",
   "metadata": {},
   "source": [
    "### Classification report"
   ]
  },
  {
   "cell_type": "code",
   "execution_count": 4,
   "metadata": {
    "tags": [
     "remove-input"
    ]
   },
   "outputs": [
    {
     "data": {
      "text/html": [
       "<style type=\"text/css\">\n",
       "#T_873c3_ td:hover {\n",
       "  background-color: #ffffb3;\n",
       "}\n",
       "#T_873c3_ .index_name {\n",
       "  font-style: italic;\n",
       "  color: darkgrey;\n",
       "  font-weight: normal;\n",
       "}\n",
       "#T_873c3_ th:not(.index_name) {\n",
       "  background-color: #000066;\n",
       "  color: white;\n",
       "}\n",
       "</style>\n",
       "<table id=\"T_873c3_\">\n",
       "  <thead>\n",
       "    <tr>\n",
       "      <th class=\"blank level0\" >&nbsp;</th>\n",
       "      <th class=\"col_heading level0 col0\" >precision</th>\n",
       "      <th class=\"col_heading level0 col1\" >recall</th>\n",
       "      <th class=\"col_heading level0 col2\" >f1-score</th>\n",
       "      <th class=\"col_heading level0 col3\" >support</th>\n",
       "    </tr>\n",
       "  </thead>\n",
       "  <tbody>\n",
       "    <tr>\n",
       "      <th id=\"T_873c3_level0_row0\" class=\"row_heading level0 row0\" >No Purchase</th>\n",
       "      <td id=\"T_873c3_row0_col0\" class=\"data row0 col0\" >0.954</td>\n",
       "      <td id=\"T_873c3_row0_col1\" class=\"data row0 col1\" >0.870</td>\n",
       "      <td id=\"T_873c3_row0_col2\" class=\"data row0 col2\" >0.910</td>\n",
       "      <td id=\"T_873c3_row0_col3\" class=\"data row0 col3\" >2058.000</td>\n",
       "    </tr>\n",
       "    <tr>\n",
       "      <th id=\"T_873c3_level0_row1\" class=\"row_heading level0 row1\" >Purchase</th>\n",
       "      <td id=\"T_873c3_row1_col0\" class=\"data row1 col0\" >0.546</td>\n",
       "      <td id=\"T_873c3_row1_col1\" class=\"data row1 col1\" >0.789</td>\n",
       "      <td id=\"T_873c3_row1_col2\" class=\"data row1 col2\" >0.645</td>\n",
       "      <td id=\"T_873c3_row1_col3\" class=\"data row1 col3\" >408.000</td>\n",
       "    </tr>\n",
       "    <tr>\n",
       "      <th id=\"T_873c3_level0_row2\" class=\"row_heading level0 row2\" >accuracy</th>\n",
       "      <td id=\"T_873c3_row2_col0\" class=\"data row2 col0\" >0.856</td>\n",
       "      <td id=\"T_873c3_row2_col1\" class=\"data row2 col1\" >0.856</td>\n",
       "      <td id=\"T_873c3_row2_col2\" class=\"data row2 col2\" >0.856</td>\n",
       "      <td id=\"T_873c3_row2_col3\" class=\"data row2 col3\" >0.856</td>\n",
       "    </tr>\n",
       "    <tr>\n",
       "      <th id=\"T_873c3_level0_row3\" class=\"row_heading level0 row3\" >macro avg</th>\n",
       "      <td id=\"T_873c3_row3_col0\" class=\"data row3 col0\" >0.750</td>\n",
       "      <td id=\"T_873c3_row3_col1\" class=\"data row3 col1\" >0.829</td>\n",
       "      <td id=\"T_873c3_row3_col2\" class=\"data row3 col2\" >0.778</td>\n",
       "      <td id=\"T_873c3_row3_col3\" class=\"data row3 col3\" >2466.000</td>\n",
       "    </tr>\n",
       "    <tr>\n",
       "      <th id=\"T_873c3_level0_row4\" class=\"row_heading level0 row4\" >weighted avg</th>\n",
       "      <td id=\"T_873c3_row4_col0\" class=\"data row4 col0\" >0.887</td>\n",
       "      <td id=\"T_873c3_row4_col1\" class=\"data row4 col1\" >0.856</td>\n",
       "      <td id=\"T_873c3_row4_col2\" class=\"data row4 col2\" >0.866</td>\n",
       "      <td id=\"T_873c3_row4_col3\" class=\"data row4 col3\" >2466.000</td>\n",
       "    </tr>\n",
       "  </tbody>\n",
       "</table>\n"
      ],
      "text/plain": [
       "<pandas.io.formats.style.Styler at 0x110941c70>"
      ]
     },
     "execution_count": 4,
     "metadata": {},
     "output_type": "execute_result"
    }
   ],
   "source": [
    "cr = pd.read_csv(\"../results/model_tuning/classification_report.csv\", index_col=0)\n",
    "\n",
    "# set pandas table styles\n",
    "s = cr.style.format(\n",
    "    '{:.3f}'\n",
    ")\n",
    "\n",
    "cell_hover = { \n",
    "    'selector': 'td:hover',\n",
    "    'props': [('background-color', '#ffffb3')]\n",
    "}\n",
    "\n",
    "index_names = {\n",
    "    'selector': '.index_name',\n",
    "    'props': 'font-style: italic; color: darkgrey; font-weight:normal;'\n",
    "}\n",
    "headers = {\n",
    "    'selector': 'th:not(.index_name)',\n",
    "    'props': 'background-color: #000066; color: white;'\n",
    "}\n",
    "\n",
    "s.set_table_styles([cell_hover, index_names, headers])"
   ]
  },
  {
   "cell_type": "markdown",
   "metadata": {},
   "source": [
    "Table.3 - Evaluation metrics for tuned random forest model"
   ]
  },
  {
   "cell_type": "markdown",
   "metadata": {},
   "source": [
    "## Discussion of results"
   ]
  },
  {
   "cell_type": "markdown",
   "metadata": {},
   "source": [
    "Our tuned random forest has the following results on the test set:\n",
    "\n",
    "- X true positives, and X true negatives\n",
    "- 268 false positives, and 88 false negatives\n",
    "- A macro average recall score is 0.829 and the macro average precision score is 0.750\n",
    "- The macro average precision score is above our budget of 0.60 that we set at the beginning of our project"
   ]
  },
  {
   "cell_type": "markdown",
   "metadata": {},
   "source": [
    "## Conclusion\n",
    "\n",
    "We have demonstrated that it is feasible to create a machine learning model to predict purchase conversion using session data in an e-commerce setting. Even though the features in the dataset are high level and aggregated, we are still able to find signals that can help with our prediction problem. Performance may be improved with more granular dataset, such as individual page history data of a user in a session. Deploying a real-time machine learning model for this use case may be challenging. Hence, we recommend to start with simple rule-based triggers on important features like `PageValues` and `BounceRates` as an 'early win', before transitioning to a machine learning model to futher boost conversion rate."
   ]
  }
 ],
 "metadata": {
  "celltoolbar": "Tags",
  "kernelspec": {
   "display_name": "Python 3",
   "language": "python",
   "name": "python3"
  },
  "language_info": {
   "codemirror_mode": {
    "name": "ipython",
    "version": 3
   },
   "file_extension": ".py",
   "mimetype": "text/x-python",
   "name": "python",
   "nbconvert_exporter": "python",
   "pygments_lexer": "ipython3",
   "version": "3.9.7"
  }
 },
 "nbformat": 4,
 "nbformat_minor": 2
}
